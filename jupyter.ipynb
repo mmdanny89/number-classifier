{
 "cells": [
  {
   "cell_type": "markdown",
   "metadata": {},
   "source": [
    "\n",
    "# Web Service.\n",
    "\n",
    "Simple web service for publish results. We used cherrypy for this.\n"
   ]
  },
  {
   "cell_type": "code",
   "execution_count": 10,
   "metadata": {},
   "outputs": [
    {
     "name": "stderr",
     "output_type": "stream",
     "text": [
      "[01/Jul/2022:10:08:22] ENGINE Listening for SIGTERM.\n",
      "[01/Jul/2022:10:08:22] ENGINE Listening for SIGHUP.\n",
      "[01/Jul/2022:10:08:22] ENGINE Listening for SIGUSR1.\n",
      "[01/Jul/2022:10:08:22] ENGINE Bus STARTING\n",
      "CherryPy Checker:\n",
      "The Application mounted at '' has an empty config.\n",
      "\n",
      "[01/Jul/2022:10:08:22] ENGINE Started monitor thread 'Autoreloader'.\n",
      "[01/Jul/2022:10:08:22] ENGINE Serving on http://0.0.0.0:8181\n",
      "[01/Jul/2022:10:08:22] ENGINE Bus STARTED\n"
     ]
    },
    {
     "name": "stdout",
     "output_type": "stream",
     "text": [
      "127.0.0.1 - - [01/Jul/2022:10:08:33] \"GET / HTTP/1.1\" 200 245 \"\" \"Mozilla/5.0 (X11; Linux x86_64; rv:78.0) Gecko/20100101 Firefox/78.0\"\n"
     ]
    },
    {
     "name": "stderr",
     "output_type": "stream",
     "text": [
      "[01/Jul/2022:10:08:37] ENGINE Keyboard Interrupt: shutting down bus\n",
      "[01/Jul/2022:10:08:37] ENGINE Bus STOPPING\n",
      "[01/Jul/2022:10:08:37] ENGINE HTTP Server cherrypy._cpwsgi_server.CPWSGIServer(('0.0.0.0', 8181)) shut down\n",
      "[01/Jul/2022:10:08:37] ENGINE Stopped thread 'Autoreloader'.\n",
      "[01/Jul/2022:10:08:37] ENGINE Bus STOPPED\n",
      "[01/Jul/2022:10:08:37] ENGINE Bus EXITING\n",
      "[01/Jul/2022:10:08:37] ENGINE Bus EXITED\n",
      "[01/Jul/2022:10:08:37] ENGINE Waiting for child threads to terminate...\n"
     ]
    }
   ],
   "source": [
    "import server_api\n",
    "server_api.run_server()"
   ]
  },
  {
   "cell_type": "markdown",
   "metadata": {},
   "source": [
    "# Classsifier\n",
    "Classification Method: Decision Trees. For this probblem and representation of data, this technique has better hits than the other two tested in this project (SVM and Naive Bayes). The accuracy is: [DT: 68.0, SVM(linear Kernel): 56.0, Naive Bayes: 62.0] \n"
   ]
  },
  {
   "cell_type": "code",
   "execution_count": 5,
   "metadata": {},
   "outputs": [
    {
     "name": "stderr",
     "output_type": "stream",
     "text": [
      "[03/Jul/2022:13:35:37] ENGINE Listening for SIGTERM.\n",
      "[03/Jul/2022:13:35:37] ENGINE Listening for SIGHUP.\n",
      "[03/Jul/2022:13:35:37] ENGINE Listening for SIGUSR1.\n",
      "[03/Jul/2022:13:35:37] ENGINE Bus STARTING\n",
      "CherryPy Checker:\n",
      "The Application mounted at '' has an empty config.\n",
      "\n",
      "[03/Jul/2022:13:35:37] ENGINE Started monitor thread 'Autoreloader'.\n",
      "[03/Jul/2022:13:35:37] ENGINE Serving on http://0.0.0.0:8181\n",
      "[03/Jul/2022:13:35:37] ENGINE Bus STARTED\n"
     ]
    },
    {
     "name": "stdout",
     "output_type": "stream",
     "text": [
      "****Accuarcy: 76.0\n",
      "127.0.0.1 - - [03/Jul/2022:13:35:47] \"GET / HTTP/1.1\" 200 392 \"\" \"Mozilla/5.0 (X11; Linux x86_64; rv:78.0) Gecko/20100101 Firefox/78.0\"\n"
     ]
    },
    {
     "name": "stderr",
     "output_type": "stream",
     "text": [
      "[03/Jul/2022:13:35:54] ENGINE Keyboard Interrupt: shutting down bus\n",
      "[03/Jul/2022:13:35:54] ENGINE Bus STOPPING\n",
      "[03/Jul/2022:13:35:55] ENGINE HTTP Server cherrypy._cpwsgi_server.CPWSGIServer(('0.0.0.0', 8181)) shut down\n",
      "[03/Jul/2022:13:35:55] ENGINE Stopped thread 'Autoreloader'.\n",
      "[03/Jul/2022:13:35:55] ENGINE Bus STOPPED\n",
      "[03/Jul/2022:13:35:55] ENGINE Bus EXITING\n",
      "[03/Jul/2022:13:35:55] ENGINE Bus EXITED\n",
      "[03/Jul/2022:13:35:55] ENGINE Waiting for child threads to terminate...\n"
     ]
    }
   ],
   "source": [
    "\n",
    "from sklearn.svm import LinearSVC\n",
    "from sklearn.naive_bayes import GaussianNB\n",
    "from sklearn.tree import DecisionTreeClassifier\n",
    "from sklearn.model_selection import train_test_split\n",
    "from sklearn.metrics import accuracy_score\n",
    "import numpy as np\n",
    "import pandas as pd\n",
    "import server_api\n",
    "\n",
    "\n",
    "def prepare_data_to_classify(numbers):\n",
    "    result = {'Number':[]}\n",
    "    for x in range(len(numbers)):\n",
    "        result['Number'].append(int(np.base_repr(numbers[x],base=3)))\n",
    "    df = pd.DataFrame(result)\n",
    "    return df\n",
    "\n",
    "\n",
    "def classify_(numbers=None):\n",
    "    df = pd.read_csv(\"./data_train/data.csv\")\n",
    "    X = df.drop('Type', axis=1)\n",
    "    y = df['Type']\n",
    "    for i in range(len(df)):\n",
    "        X.at[i,'Number']= int(np.base_repr(int(X.at[i,'Number']), base=3))\n",
    "    X_train, X_test, y_train, y_test = train_test_split(X, y)\n",
    "    #clf = LinearSVC()\n",
    "    #clf = GaussianNB()\n",
    "    clf = DecisionTreeClassifier()\n",
    "    clf.fit(X_train, y_train)\n",
    "    result = None \n",
    "    if numbers:\n",
    "        result = clf.predict(prepare_data_to_classify(numbers))\n",
    "        acc = None\n",
    "    else:\n",
    "        result = clf.predict(X_test)\n",
    "        acc = (accuracy_score(y_test, result)*100)\n",
    "    return result, acc\n",
    "\n",
    "\n",
    "if __name__ == '__main__':\n",
    "    result, acc = classify_()\n",
    "    msg = \"****Accuarcy: {0}\".format(str(acc))\n",
    "    print(msg)\n",
    "    server_api.run_server(str(result))\n",
    "    "
   ]
  }
 ],
 "metadata": {
  "interpreter": {
   "hash": "31f2aee4e71d21fbe5cf8b01ff0e069b9275f58929596ceb00d14d90e3e16cd6"
  },
  "kernelspec": {
   "display_name": "Python 3.9.2 64-bit",
   "language": "python",
   "name": "python3"
  },
  "language_info": {
   "codemirror_mode": {
    "name": "ipython",
    "version": 3
   },
   "file_extension": ".py",
   "mimetype": "text/x-python",
   "name": "python",
   "nbconvert_exporter": "python",
   "pygments_lexer": "ipython3",
   "version": "3.9.2"
  },
  "orig_nbformat": 4
 },
 "nbformat": 4,
 "nbformat_minor": 2
}
