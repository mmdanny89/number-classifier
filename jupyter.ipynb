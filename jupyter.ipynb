{
 "cells": [
  {
   "cell_type": "markdown",
   "metadata": {},
   "source": [
    "\n",
    "# Web Service.\n",
    "\n",
    "Simple web service for publish results. We used cherrypy for this.\n"
   ]
  },
  {
   "cell_type": "code",
   "execution_count": 10,
   "metadata": {},
   "outputs": [
    {
     "name": "stderr",
     "output_type": "stream",
     "text": [
      "[01/Jul/2022:10:08:22] ENGINE Listening for SIGTERM.\n",
      "[01/Jul/2022:10:08:22] ENGINE Listening for SIGHUP.\n",
      "[01/Jul/2022:10:08:22] ENGINE Listening for SIGUSR1.\n",
      "[01/Jul/2022:10:08:22] ENGINE Bus STARTING\n",
      "CherryPy Checker:\n",
      "The Application mounted at '' has an empty config.\n",
      "\n",
      "[01/Jul/2022:10:08:22] ENGINE Started monitor thread 'Autoreloader'.\n",
      "[01/Jul/2022:10:08:22] ENGINE Serving on http://0.0.0.0:8181\n",
      "[01/Jul/2022:10:08:22] ENGINE Bus STARTED\n"
     ]
    },
    {
     "name": "stdout",
     "output_type": "stream",
     "text": [
      "127.0.0.1 - - [01/Jul/2022:10:08:33] \"GET / HTTP/1.1\" 200 245 \"\" \"Mozilla/5.0 (X11; Linux x86_64; rv:78.0) Gecko/20100101 Firefox/78.0\"\n"
     ]
    },
    {
     "name": "stderr",
     "output_type": "stream",
     "text": [
      "[01/Jul/2022:10:08:37] ENGINE Keyboard Interrupt: shutting down bus\n",
      "[01/Jul/2022:10:08:37] ENGINE Bus STOPPING\n",
      "[01/Jul/2022:10:08:37] ENGINE HTTP Server cherrypy._cpwsgi_server.CPWSGIServer(('0.0.0.0', 8181)) shut down\n",
      "[01/Jul/2022:10:08:37] ENGINE Stopped thread 'Autoreloader'.\n",
      "[01/Jul/2022:10:08:37] ENGINE Bus STOPPED\n",
      "[01/Jul/2022:10:08:37] ENGINE Bus EXITING\n",
      "[01/Jul/2022:10:08:37] ENGINE Bus EXITED\n",
      "[01/Jul/2022:10:08:37] ENGINE Waiting for child threads to terminate...\n"
     ]
    }
   ],
   "source": [
    "import server_api\n",
    "server_api.run_server()"
   ]
  }
 ],
 "metadata": {
  "interpreter": {
   "hash": "31f2aee4e71d21fbe5cf8b01ff0e069b9275f58929596ceb00d14d90e3e16cd6"
  },
  "kernelspec": {
   "display_name": "Python 3.9.2 64-bit",
   "language": "python",
   "name": "python3"
  },
  "language_info": {
   "codemirror_mode": {
    "name": "ipython",
    "version": 3
   },
   "file_extension": ".py",
   "mimetype": "text/x-python",
   "name": "python",
   "nbconvert_exporter": "python",
   "pygments_lexer": "ipython3",
   "version": "3.9.2"
  },
  "orig_nbformat": 4
 },
 "nbformat": 4,
 "nbformat_minor": 2
}
